{
 "cells": [
  {
   "cell_type": "markdown",
   "id": "856369b1-1206-4f88-9cf3-900fd362db8c",
   "metadata": {},
   "source": [
    "### Step 1: Import Required Libraries"
   ]
  },
  {
   "cell_type": "code",
   "execution_count": 1,
   "id": "f5bf8eb3-ff71-4b05-a5c4-217960e461f0",
   "metadata": {},
   "outputs": [],
   "source": [
    "import csv\n",
    "import glob\n",
    "import random\n",
    "import sklearn\n",
    "import numpy as np\n",
    "import networkx as nx\n",
    "import pickle5 as pickle\n",
    "from sklearn.svm import SVC\n",
    "from itertools import combinations\n",
    "from sklearn.linear_model import LogisticRegression\n",
    "from sklearn.model_selection import train_test_split\n",
    "from sklearn.metrics.pairwise import cosine_similarity"
   ]
  },
  {
   "cell_type": "markdown",
   "id": "08d8ca27-4454-42c3-8011-0553bc665540",
   "metadata": {},
   "source": [
    "### Step 2: Loading Embedded Locations"
   ]
  },
  {
   "cell_type": "code",
   "execution_count": 2,
   "id": "7f782488-fd32-4c6f-8c0d-3c65aa775e2b",
   "metadata": {},
   "outputs": [],
   "source": [
    "embeddings = np.load('data/EMBEDDING/embeddeds_dim128_batchNumber200_length5_lookback1.npy')\n",
    "\n",
    "# We will predict 2019 collaborations based on 2018 and 2017 (these data is based on previous years, so prediction is based on\n",
    "# all previous years 2015, 2016, 2017, and 2018)\n",
    "embed2018 = embeddings[2]\n",
    "embed2017 = embeddings[1]"
   ]
  },
  {
   "cell_type": "markdown",
   "id": "c7be47a5-cafe-40a5-bcea-696fce4243c8",
   "metadata": {},
   "source": [
    "### Step 3: Sorted List of all Authors to have the same order in all Graphs"
   ]
  },
  {
   "cell_type": "code",
   "execution_count": 3,
   "id": "a5214b15-2771-411c-b6fe-6fcddf9ea350",
   "metadata": {},
   "outputs": [],
   "source": [
    "# To have sorted embedding in Output\n",
    "def node_sorter(graph):\n",
    "    H = nx.Graph()\n",
    "    new_nodes = sorted(graph.nodes(data=True))\n",
    "    H.add_nodes_from(new_nodes)\n",
    "    H.add_edges_from(graph.edges(data=True))\n",
    "    return H"
   ]
  },
  {
   "cell_type": "markdown",
   "id": "2705139d-c439-4873-812f-9410336ff611",
   "metadata": {},
   "source": [
    "### Step 4: Embedded Locations for 2017 and 2018"
   ]
  },
  {
   "cell_type": "code",
   "execution_count": 4,
   "id": "0b7fc0cf-e9d8-4c55-a5b6-cc92279d57bb",
   "metadata": {},
   "outputs": [],
   "source": [
    "# nodes in all these graphs are their intersection, so nose_set is the same for all years\n",
    "\n",
    "graph_2019 = nx.read_pajek('data/Graphs/pajek_graph19.net')\n",
    "SortedNodeG2019 = node_sorter(graph_2019)\n",
    "node_emb_dict_2018 = {list(SortedNodeG2019.nodes())[i] : embed2018[i] for i in range(len(SortedNodeG2019.nodes()))}\n",
    "node_emb_dict_2017 = {list(SortedNodeG2019.nodes())[i] : embed2017[i] for i in range(len(SortedNodeG2019.nodes()))}"
   ]
  },
  {
   "cell_type": "markdown",
   "id": "742f7a88-a366-45a9-bc4f-30104eb79353",
   "metadata": {},
   "source": [
    "### Step 5: Get Authors' names as Key for Embedded Locations Dictionary"
   ]
  },
  {
   "cell_type": "code",
   "execution_count": 5,
   "id": "a36ea5ef-db8b-4190-90c2-cd0b1fb4ddea",
   "metadata": {},
   "outputs": [],
   "source": [
    "node_emb_dict18 = list(node_emb_dict_2018)\n",
    "nodes_num = len(node_emb_dict18)\n",
    "names = []\n",
    "for i in range(nodes_num):\n",
    "    names.append(node_emb_dict18[i])"
   ]
  },
  {
   "cell_type": "markdown",
   "id": "3bb0d61c-012a-4b7c-81d8-a28e03af0631",
   "metadata": {},
   "source": [
    "### Step 6: Computing (Predicting) Future Locations (2019) using 2017, 2018"
   ]
  },
  {
   "cell_type": "code",
   "execution_count": 6,
   "id": "ed5c81c9-101d-41d8-b767-01499fd2151e",
   "metadata": {},
   "outputs": [],
   "source": [
    "all_velbased_loc = []\n",
    "for i in range(nodes_num):\n",
    "     all_velbased_loc.append(2*node_emb_dict_2018[names[i]] - node_emb_dict_2017[names[i]])"
   ]
  },
  {
   "cell_type": "markdown",
   "id": "e12e3796-3690-44a0-8298-d1a2229684f1",
   "metadata": {},
   "source": [
    "### Similarity Computation for Sample of size 20,000 (almost one-third of whole data)"
   ]
  },
  {
   "cell_type": "code",
   "execution_count": 12,
   "id": "e18bfff0-0b18-4250-8bb3-74c298960c7d",
   "metadata": {},
   "outputs": [
    {
     "name": "stdout",
     "output_type": "stream",
     "text": [
      "1.4296760559082031\n"
     ]
    }
   ],
   "source": [
    "import time\n",
    "\n",
    "t = time.time()\n",
    "a = all_velbased_loc[:20000]\n",
    "b = all_velbased_loc[:20000]\n",
    "t = time.time()\n",
    "c = cosine_similarity(a, b)\n",
    "x = time.time()-t\n",
    "    \n",
    "print(x)"
   ]
  },
  {
   "cell_type": "code",
   "execution_count": 57,
   "id": "4930ad7a-1662-4444-b264-faa325c30b30",
   "metadata": {},
   "outputs": [],
   "source": [
    "base_loc = []\n",
    "for i in range(nodes_num):\n",
    "     base_loc.append(node_emb_dict_2018[names[i]])"
   ]
  },
  {
   "cell_type": "code",
   "execution_count": 58,
   "id": "21a48f7b-97e4-46c2-a680-abbd89172554",
   "metadata": {},
   "outputs": [
    {
     "name": "stdout",
     "output_type": "stream",
     "text": [
      "0.8210158348083496\n"
     ]
    }
   ],
   "source": [
    "import time\n",
    "\n",
    "t = time.time()\n",
    "a_b = base_loc[:20000]\n",
    "b_b = base_loc[:20000]\n",
    "t = time.time()\n",
    "c_b = cosine_similarity(a_b, b_b)\n",
    "x = time.time()-t\n",
    "    \n",
    "print(x)"
   ]
  },
  {
   "cell_type": "code",
   "execution_count": 59,
   "id": "2585e999-0a3a-4008-8a89-03466c377063",
   "metadata": {},
   "outputs": [],
   "source": [
    "# Creates a list containing 20000 lists, each of 20000 items, all set to 0\n",
    "w, h = 20000, 20000\n",
    "grand_truth = [[0 for x in range(w)] for y in range(h)]\n",
    "samp_size = 20000\n",
    "nodes_ = list(SortedNodeG2019.nodes())\n",
    "for i in range(samp_size):\n",
    "    for j in range(samp_size):\n",
    "        if (nodes_[j] in SortedNodeG2019[nodes_[i]]):\n",
    "            grand_truth[i][j] = 1"
   ]
  },
  {
   "cell_type": "code",
   "execution_count": 60,
   "id": "6d040c1a-f7b1-41ba-acd4-e8a91ae87949",
   "metadata": {},
   "outputs": [],
   "source": [
    "n_grand_truth = np.array(grand_truth)"
   ]
  },
  {
   "cell_type": "code",
   "execution_count": 61,
   "id": "a5f3ba75-f587-44cb-bb23-e370e7879cc1",
   "metadata": {},
   "outputs": [],
   "source": [
    "n_c = np.array(c)"
   ]
  },
  {
   "cell_type": "code",
   "execution_count": 62,
   "id": "f5c1c237-df86-4d24-ada1-9c87346ce513",
   "metadata": {},
   "outputs": [],
   "source": [
    "n_c_b = np.array(c_b)"
   ]
  },
  {
   "cell_type": "code",
   "execution_count": 63,
   "id": "c9eaf397-c9fc-49ce-a6e2-60109c4273a1",
   "metadata": {},
   "outputs": [],
   "source": [
    "n_grand_truth = n_grand_truth > 0"
   ]
  },
  {
   "cell_type": "code",
   "execution_count": 64,
   "id": "467f7e93-9c78-468c-814d-2667dbcf3e75",
   "metadata": {},
   "outputs": [],
   "source": [
    "n_c = n_c >= 0.8"
   ]
  },
  {
   "cell_type": "code",
   "execution_count": 65,
   "id": "21079ec3-ffd0-4797-983c-2e0fbd359958",
   "metadata": {},
   "outputs": [],
   "source": [
    "n_c_b = n_c_b >= 0.8"
   ]
  },
  {
   "cell_type": "code",
   "execution_count": 66,
   "id": "90433a5d-1906-43c1-b375-a62c81b5572c",
   "metadata": {},
   "outputs": [],
   "source": [
    "for i in range(samp_size):\n",
    "    n_c[i][i] = False\n",
    "    n_c_b[i][i] = False"
   ]
  },
  {
   "cell_type": "code",
   "execution_count": 67,
   "id": "86cde144-db4d-4eae-a904-8404da67b166",
   "metadata": {},
   "outputs": [],
   "source": [
    "n_c = n_c.flatten()"
   ]
  },
  {
   "cell_type": "code",
   "execution_count": 68,
   "id": "bdf4da58-a271-4040-81d2-aa34a4712b28",
   "metadata": {},
   "outputs": [],
   "source": [
    "n_c_b = n_c_b.flatten()"
   ]
  },
  {
   "cell_type": "code",
   "execution_count": 69,
   "id": "ebb0b0ea-a9ce-452c-8223-5639446b7ee6",
   "metadata": {},
   "outputs": [],
   "source": [
    "n_grand_truth = n_grand_truth.flatten()"
   ]
  },
  {
   "cell_type": "code",
   "execution_count": 70,
   "id": "e6f402fd-cc14-48b5-b649-994fd111b604",
   "metadata": {},
   "outputs": [],
   "source": [
    "from sklearn.metrics import roc_auc_score"
   ]
  },
  {
   "cell_type": "code",
   "execution_count": 71,
   "id": "93aab8d6-145f-46b6-b260-51c5838a5c75",
   "metadata": {},
   "outputs": [
    {
     "data": {
      "text/plain": [
       "0.5730506152174495"
      ]
     },
     "execution_count": 71,
     "metadata": {},
     "output_type": "execute_result"
    }
   ],
   "source": [
    "roc_auc_score(n_grand_truth, n_c)"
   ]
  },
  {
   "cell_type": "code",
   "execution_count": 72,
   "id": "f6f88e70-981a-433e-8ccb-8915a2e9e96a",
   "metadata": {},
   "outputs": [
    {
     "data": {
      "text/plain": [
       "0.5938053956499748"
      ]
     },
     "execution_count": 72,
     "metadata": {},
     "output_type": "execute_result"
    }
   ],
   "source": [
    "roc_auc_score(n_grand_truth, n_c_b)"
   ]
  },
  {
   "cell_type": "code",
   "execution_count": 79,
   "id": "98eee376-44cc-4bce-ab9f-3c648c007ca9",
   "metadata": {},
   "outputs": [
    {
     "data": {
      "text/plain": [
       "0.5730506152174495"
      ]
     },
     "execution_count": 79,
     "metadata": {},
     "output_type": "execute_result"
    }
   ],
   "source": [
    "roc_auc_score(n_grand_truth, n_c, average='micro')"
   ]
  },
  {
   "cell_type": "code",
   "execution_count": 80,
   "id": "24fc7fbb-02b5-4b92-99c4-603d51562f9a",
   "metadata": {},
   "outputs": [
    {
     "data": {
      "text/plain": [
       "0.5938053956499748"
      ]
     },
     "execution_count": 80,
     "metadata": {},
     "output_type": "execute_result"
    }
   ],
   "source": [
    "roc_auc_score(n_grand_truth, n_c_b, average='micro')"
   ]
  },
  {
   "cell_type": "code",
   "execution_count": 81,
   "id": "3a1d93a5-bc3b-4df7-ad4d-e6c367c87462",
   "metadata": {},
   "outputs": [],
   "source": [
    "from sklearn import metrics"
   ]
  },
  {
   "cell_type": "code",
   "execution_count": 84,
   "id": "1e1cdd6d-2a31-42ab-a2da-5c78de28a8b2",
   "metadata": {},
   "outputs": [],
   "source": [
    "vel_auprc = sklearn.metrics.average_precision_score(n_grand_truth, n_c)"
   ]
  },
  {
   "cell_type": "code",
   "execution_count": 85,
   "id": "845ddd13-3ff1-4915-8fa7-9ce31f921aa3",
   "metadata": {},
   "outputs": [],
   "source": [
    "base_auprc = sklearn.metrics.average_precision_score(n_grand_truth, n_c_b)"
   ]
  },
  {
   "cell_type": "code",
   "execution_count": 87,
   "id": "ded8ef0d-3f82-4fda-a953-b38504c7d94a",
   "metadata": {},
   "outputs": [
    {
     "name": "stdout",
     "output_type": "stream",
     "text": [
      "0.03436041142668613\n",
      "0.01835590212738386\n"
     ]
    }
   ],
   "source": [
    "print(vel_auprc)\n",
    "print(base_auprc)"
   ]
  },
  {
   "cell_type": "code",
   "execution_count": null,
   "id": "9b04e1c5-f58c-468d-871d-442c6e846426",
   "metadata": {},
   "outputs": [],
   "source": []
  }
 ],
 "metadata": {
  "kernelspec": {
   "display_name": "Python 3",
   "language": "python",
   "name": "python3"
  },
  "language_info": {
   "codemirror_mode": {
    "name": "ipython",
    "version": 3
   },
   "file_extension": ".py",
   "mimetype": "text/x-python",
   "name": "python",
   "nbconvert_exporter": "python",
   "pygments_lexer": "ipython3",
   "version": "3.8.8"
  }
 },
 "nbformat": 4,
 "nbformat_minor": 5
}
